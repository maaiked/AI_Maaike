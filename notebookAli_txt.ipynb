{
  "nbformat": 4,
  "nbformat_minor": 0,
  "metadata": {
    "kernelspec": {
      "display_name": "Python 3",
      "language": "python",
      "name": "python3"
    },
    "language_info": {
      "codemirror_mode": {
        "name": "ipython",
        "version": 3
      },
      "file_extension": ".py",
      "mimetype": "text/x-python",
      "name": "python",
      "nbconvert_exporter": "python",
      "pygments_lexer": "ipython3",
      "version": "3.8.7"
    },
    "colab": {
      "name": "notebookAli.txt",
      "provenance": []
    }
  },
  "cells": [
    {
      "cell_type": "code",
      "metadata": {
        "id": "XGNbEGQ38Iyy",
        "outputId": "d70a78a3-5d6b-4db0-82d6-7fa2fcdc88e8"
      },
      "source": [
        "#import Google dataset\n",
        "import pandas as pd\n",
        "import numpy as np\n",
        "import os\n",
        "# visualization libraries, seaborn is an extention to matplotlib\n",
        "import seaborn as sns\n",
        "import matplotlib.pyplot as plt\n",
        "%matplotlib inline\n",
        "import warnings\n",
        "warnings.filterwarnings(\"ignore\")\n",
        "# machine learning models\n",
        "from sklearn.linear_model import LogisticRegression\n",
        "from sklearn.ensemble import RandomForestClassifier\n",
        "from sklearn.neighbors import KNeighborsClassifier\n",
        "from sklearn.tree import DecisionTreeClassifier\n",
        "\n",
        "#pd.set_option(\"display.max_rows\",None,\"display.max_columns\",None)\n",
        "\n",
        "#Function to count occurance of letter S in text\n",
        "def count_s_in_sentence(s)->(\"s_count\"):\n",
        "    count_s=0\n",
        "    for ch in s:\n",
        "        if(ch.lower() =='s'):\n",
        "            count_s+=1\n",
        "    return count_s\n",
        "\n",
        "# function to count amount of vowels in text\n",
        "def count_vowels_in_sentence(s)->(\"s_count\"):\n",
        "    \n",
        "    count_vowel=0    \n",
        "    vowels='aeiouy'\n",
        "    \n",
        "    for ch in s:\n",
        "        if(ch.lower() in vowels):\n",
        "            count_vowel+=1\n",
        "    return count_vowel\n",
        "\n",
        "#function to count amount of consones in text\n",
        "def count_consones_in_sentence(s)->(\"s_count\"):\n",
        "    \n",
        "    count_consone=0\n",
        "    vowels='aeiouy'\n",
        "    \n",
        "    for ch in s:\n",
        "        if not (ch.lower() in vowels):\n",
        "            count_consone+=1\n",
        "    return count_consone\n",
        "\n",
        "def change_pathology_to_number(s)->(\"int_pathology\"):\n",
        "    if(s.lower()=='n'):\n",
        "        return '0'\n",
        "    elif(s.lower()=='d'):\n",
        "        return'1'\n",
        "    elif(s.lower()=='g'):\n",
        "        return'2'\n",
        "    elif(s.lower()=='h'):\n",
        "        return'3'\n",
        "    elif(s.lower()=='l'):\n",
        "        return'4'\n",
        "    elif(s.lower()=='v'):\n",
        "        return'5'\n",
        "    \n",
        "def define_if_pathology(s)->(\"int_pathology\"):\n",
        "    if(s.lower()=='n'):\n",
        "        return '0'\n",
        "    else:\n",
        "        return'1'\n",
        "    \n",
        "def define_amount_of_words_transcripted(s)->(\"int_words_transcripted\"):\n",
        "    from difflib import SequenceMatcher\n",
        "\n",
        "    a = \"Papa en Marloes staan op het station. Ze wachten op de trein. Eerst hebben ze een kaartje gekocht. Er stond een hele lange rij, dus dat duurde wel even. Nu wachten ze tot de trein eraan komt. Het is al vijf over drie, dus het duurt nog vier minuten. Er staan nog veel meer mensen te wachten. Marloes kijkt naar links, in de verte ziet ze de trein al aankomen.\"\n",
        "\n",
        "    ratio = SequenceMatcher(None, a, s).ratio()\n",
        "    return ratio\n",
        "\n",
        "\n",
        "def define_vowels_at_right_place_in_transcription(s)->(\"int_words_transcripted\"):\n",
        "\n",
        "    c_text = \"Papa en Marloes staan op het station. Ze wachten op de trein. Eerst hebben ze een kaartje gekocht. Er stond een hele lange rij, dus dat duurde wel even. Nu wachten ze tot de trein eraan komt. Het is al vijf over drie, dus het duurt nog vier minuten. Er staan nog veel meer mensen te wachten. Marloes kijkt naar links, in de verte ziet ze de trein al aankomen.\"\n",
        "    \n",
        "    vowels_at_right_place = 0\n",
        "    consones_at_right_place = 0\n",
        "    \n",
        "    for ch in s:\n",
        "        if not (ch.lower() in vowels):\n",
        "            count_consone+=1\n",
        "    return count_consone\n",
        "\n",
        "\n",
        "def get_case_name_from_filename(s)->(\"case\"):\n",
        "    return s.split('_')[0]\n",
        "\n",
        "    \n",
        "\n",
        "Googledataset = pd.read_csv('datasets/datasetGoogle2.csv',header=None,sep=';',decimal=',')\n",
        "Googledataset = Googledataset.rename(columns={0: 'case', 1: 'transcription', 2: 'confidence', 3:'pathology text',4:'Real text',5:'tool',6:'Correct'})\n",
        "Googledataset['Correct'] = Googledataset['transcription'].gt(Googledataset['Real text'])\n",
        "#Googledataset['Amount of S in sentence transcripted']='0'\n",
        "\n",
        "dataset2 = pd.read_csv('randomforest/dataOpgeschoond.csv',sep=',',decimal='.',skiprows = 1,header=None)\n",
        "dataset2 = dataset2.rename(columns={0:'case',1:'chroma_stft',2:'rmse',3:'spectral_centroid',4:'spectral_bandwidth',5:'rolloff',\n",
        "                                    6:'zero_crossing_rate',7:'mfcc1',8:'mfcc2',9:'mfcc3',10:'mfcc4',\n",
        "                                    11:'mfcc5',12:'mfcc6',13:'mfcc7',14:'mfcc8',15:'mfcc9',16:'mfcc10',17:'mfcc11',\n",
        "                                    18:'mfcc12',19:'mfcc13',20:'mfcc14',21:'mfcc15',22:'mfcc16',23:'mfcc17',24:'mfcc18',25:'mfcc19',26:'mfcc20',27:'label'})\n",
        "for i, row in dataset2.iterrows():\n",
        "    dataset2.at[i,'case']=get_case_name_from_filename(row['case'])\n",
        "\n",
        "\n",
        "\n",
        "\n",
        "for i, row in Googledataset.iterrows():\n",
        "    Googledataset.at[i,'S in transcripted text']=int(count_s_in_sentence(row['transcription']))\n",
        "    Googledataset.at[i,'S in Real text']=int(count_s_in_sentence(row['Real text']))\n",
        "    \n",
        "    Googledataset.at[i,'vowels in transcripted text']=int(count_vowels_in_sentence(row['transcription']))\n",
        "    Googledataset.at[i,'vowels in Real text']=int(count_vowels_in_sentence(row['Real text']))\n",
        "    \n",
        "    Googledataset.at[i,'consones in transcripted text']=int(count_consones_in_sentence(row['transcription']))\n",
        "    Googledataset.at[i,'consones in Real text']=int(count_consones_in_sentence(row['Real text']))\n",
        "    \n",
        "    Googledataset.at[i,'consones correctly transcripted']=int(count_consones_in_sentence(row['transcription']))/int(count_consones_in_sentence(row['Real text']))*100   \n",
        "    Googledataset.at[i,'S correctly transcripted percentage']=(int(count_s_in_sentence(row['transcription']))/int(count_s_in_sentence(row['Real text'])))*100   \n",
        "    Googledataset.at[i,'vowels correctly transcripted percentage']=int(count_vowels_in_sentence(row['transcription']))/int(count_vowels_in_sentence(row['Real text']))*100\n",
        "    Googledataset.at[i,'pathology']=int(change_pathology_to_number(row['pathology text']))\n",
        "    Googledataset.at[i,'Correct_int']=int(row['Correct'])\n",
        "    Googledataset.at[i,'pathology_detected']=int(define_if_pathology(row['pathology text']))\n",
        "    Googledataset.at[i,'ratio correct words transcripted']=float(define_amount_of_words_transcripted(row['transcription']))\n",
        "\n",
        "\n",
        "\n",
        "# first I save ùmy dataset with all the calculations\n",
        "#    Googledataset.to_csv('datasets/datasetGoogle2WithAditionalcalculations.csv',sep=';')\n",
        "\n",
        "Googledataset=Googledataset.merge(dataset2,on='case',how='left')\n",
        "Googledataset.to_csv('datasets/fulldataset.csv',sep=';')\n",
        "    \n",
        "#Now I remove unnescessary rows for random forest\n",
        "Googledataset=Googledataset.drop('transcription',axis=1)\n",
        "Googledataset=Googledataset.drop('pathology text',axis=1)\n",
        "Googledataset=Googledataset.drop('Real text',axis=1)\n",
        "Googledataset=Googledataset.drop('tool',axis=1)\n",
        "Googledataset=Googledataset.drop('Correct',axis=1)\n",
        "Googledataset=Googledataset.drop('case',axis=1)\n",
        "Googledataset=Googledataset.drop('label',axis=1)\n",
        "\n",
        "\n",
        "#dataset2.head(5)\n",
        "Googledataset.to_csv('datasets/fulldataset.csv',sep=';')\n",
        "#print(Googledataset)\n",
        "Googledataset=Googledataset.drop(101)\n",
        "Googledataset.head(5)\n",
        "\n",
        "\n",
        "  \n",
        "\n",
        "\n",
        "\n",
        "\n",
        "\n",
        "\n"
      ],
      "execution_count": null,
      "outputs": [
        {
          "output_type": "execute_result",
          "data": {
            "text/html": [
              "<div>\n",
              "<style scoped>\n",
              "    .dataframe tbody tr th:only-of-type {\n",
              "        vertical-align: middle;\n",
              "    }\n",
              "\n",
              "    .dataframe tbody tr th {\n",
              "        vertical-align: top;\n",
              "    }\n",
              "\n",
              "    .dataframe thead th {\n",
              "        text-align: right;\n",
              "    }\n",
              "</style>\n",
              "<table border=\"1\" class=\"dataframe\">\n",
              "  <thead>\n",
              "    <tr style=\"text-align: right;\">\n",
              "      <th></th>\n",
              "      <th>confidence</th>\n",
              "      <th>S in transcripted text</th>\n",
              "      <th>S in Real text</th>\n",
              "      <th>vowels in transcripted text</th>\n",
              "      <th>vowels in Real text</th>\n",
              "      <th>consones in transcripted text</th>\n",
              "      <th>consones in Real text</th>\n",
              "      <th>consones correctly transcripted</th>\n",
              "      <th>S correctly transcripted percentage</th>\n",
              "      <th>vowels correctly transcripted percentage</th>\n",
              "      <th>...</th>\n",
              "      <th>mfcc11</th>\n",
              "      <th>mfcc12</th>\n",
              "      <th>mfcc13</th>\n",
              "      <th>mfcc14</th>\n",
              "      <th>mfcc15</th>\n",
              "      <th>mfcc16</th>\n",
              "      <th>mfcc17</th>\n",
              "      <th>mfcc18</th>\n",
              "      <th>mfcc19</th>\n",
              "      <th>mfcc20</th>\n",
              "    </tr>\n",
              "  </thead>\n",
              "  <tbody>\n",
              "    <tr>\n",
              "      <th>0</th>\n",
              "      <td>0.890733</td>\n",
              "      <td>14.0</td>\n",
              "      <td>12.0</td>\n",
              "      <td>94.0</td>\n",
              "      <td>114.0</td>\n",
              "      <td>204.0</td>\n",
              "      <td>245.0</td>\n",
              "      <td>83.265306</td>\n",
              "      <td>116.666667</td>\n",
              "      <td>82.456140</td>\n",
              "      <td>...</td>\n",
              "      <td>-5.738564</td>\n",
              "      <td>-8.239864</td>\n",
              "      <td>8.881476</td>\n",
              "      <td>-5.271298</td>\n",
              "      <td>4.814304</td>\n",
              "      <td>-6.834188</td>\n",
              "      <td>2.742690</td>\n",
              "      <td>-0.968526</td>\n",
              "      <td>-0.898997</td>\n",
              "      <td>-2.506209</td>\n",
              "    </tr>\n",
              "    <tr>\n",
              "      <th>1</th>\n",
              "      <td>0.936437</td>\n",
              "      <td>13.0</td>\n",
              "      <td>12.0</td>\n",
              "      <td>100.0</td>\n",
              "      <td>114.0</td>\n",
              "      <td>217.0</td>\n",
              "      <td>245.0</td>\n",
              "      <td>88.571429</td>\n",
              "      <td>108.333333</td>\n",
              "      <td>87.719298</td>\n",
              "      <td>...</td>\n",
              "      <td>0.873587</td>\n",
              "      <td>2.967209</td>\n",
              "      <td>0.054702</td>\n",
              "      <td>0.500937</td>\n",
              "      <td>11.257287</td>\n",
              "      <td>-5.796532</td>\n",
              "      <td>0.581473</td>\n",
              "      <td>-0.285336</td>\n",
              "      <td>0.780839</td>\n",
              "      <td>0.298647</td>\n",
              "    </tr>\n",
              "    <tr>\n",
              "      <th>2</th>\n",
              "      <td>0.934523</td>\n",
              "      <td>8.0</td>\n",
              "      <td>12.0</td>\n",
              "      <td>69.0</td>\n",
              "      <td>114.0</td>\n",
              "      <td>152.0</td>\n",
              "      <td>245.0</td>\n",
              "      <td>62.040816</td>\n",
              "      <td>66.666667</td>\n",
              "      <td>60.526316</td>\n",
              "      <td>...</td>\n",
              "      <td>-10.160314</td>\n",
              "      <td>-6.781964</td>\n",
              "      <td>1.398337</td>\n",
              "      <td>-12.372193</td>\n",
              "      <td>5.852801</td>\n",
              "      <td>-8.212138</td>\n",
              "      <td>-4.382645</td>\n",
              "      <td>-2.375373</td>\n",
              "      <td>-5.097301</td>\n",
              "      <td>-0.492338</td>\n",
              "    </tr>\n",
              "    <tr>\n",
              "      <th>3</th>\n",
              "      <td>0.819783</td>\n",
              "      <td>4.0</td>\n",
              "      <td>12.0</td>\n",
              "      <td>31.0</td>\n",
              "      <td>114.0</td>\n",
              "      <td>61.0</td>\n",
              "      <td>245.0</td>\n",
              "      <td>24.897959</td>\n",
              "      <td>33.333333</td>\n",
              "      <td>27.192982</td>\n",
              "      <td>...</td>\n",
              "      <td>-10.160314</td>\n",
              "      <td>-6.781964</td>\n",
              "      <td>1.398337</td>\n",
              "      <td>-12.372193</td>\n",
              "      <td>5.852801</td>\n",
              "      <td>-8.212138</td>\n",
              "      <td>-4.382645</td>\n",
              "      <td>-2.375373</td>\n",
              "      <td>-5.097301</td>\n",
              "      <td>-0.492338</td>\n",
              "    </tr>\n",
              "    <tr>\n",
              "      <th>4</th>\n",
              "      <td>0.925102</td>\n",
              "      <td>3.0</td>\n",
              "      <td>12.0</td>\n",
              "      <td>13.0</td>\n",
              "      <td>114.0</td>\n",
              "      <td>23.0</td>\n",
              "      <td>245.0</td>\n",
              "      <td>9.387755</td>\n",
              "      <td>25.000000</td>\n",
              "      <td>11.403509</td>\n",
              "      <td>...</td>\n",
              "      <td>-1.966162</td>\n",
              "      <td>-5.692695</td>\n",
              "      <td>1.720981</td>\n",
              "      <td>-8.522770</td>\n",
              "      <td>7.893877</td>\n",
              "      <td>-8.895610</td>\n",
              "      <td>-5.348538</td>\n",
              "      <td>-1.063221</td>\n",
              "      <td>-4.115649</td>\n",
              "      <td>-1.000136</td>\n",
              "    </tr>\n",
              "  </tbody>\n",
              "</table>\n",
              "<p>5 rows × 40 columns</p>\n",
              "</div>"
            ],
            "text/plain": [
              "   confidence  S in transcripted text  S in Real text  \\\n",
              "0    0.890733                    14.0            12.0   \n",
              "1    0.936437                    13.0            12.0   \n",
              "2    0.934523                     8.0            12.0   \n",
              "3    0.819783                     4.0            12.0   \n",
              "4    0.925102                     3.0            12.0   \n",
              "\n",
              "   vowels in transcripted text  vowels in Real text  \\\n",
              "0                         94.0                114.0   \n",
              "1                        100.0                114.0   \n",
              "2                         69.0                114.0   \n",
              "3                         31.0                114.0   \n",
              "4                         13.0                114.0   \n",
              "\n",
              "   consones in transcripted text  consones in Real text  \\\n",
              "0                          204.0                  245.0   \n",
              "1                          217.0                  245.0   \n",
              "2                          152.0                  245.0   \n",
              "3                           61.0                  245.0   \n",
              "4                           23.0                  245.0   \n",
              "\n",
              "   consones correctly transcripted  S correctly transcripted percentage  \\\n",
              "0                        83.265306                           116.666667   \n",
              "1                        88.571429                           108.333333   \n",
              "2                        62.040816                            66.666667   \n",
              "3                        24.897959                            33.333333   \n",
              "4                         9.387755                            25.000000   \n",
              "\n",
              "   vowels correctly transcripted percentage  ...     mfcc11    mfcc12  \\\n",
              "0                                 82.456140  ...  -5.738564 -8.239864   \n",
              "1                                 87.719298  ...   0.873587  2.967209   \n",
              "2                                 60.526316  ... -10.160314 -6.781964   \n",
              "3                                 27.192982  ... -10.160314 -6.781964   \n",
              "4                                 11.403509  ...  -1.966162 -5.692695   \n",
              "\n",
              "     mfcc13     mfcc14     mfcc15    mfcc16    mfcc17    mfcc18    mfcc19  \\\n",
              "0  8.881476  -5.271298   4.814304 -6.834188  2.742690 -0.968526 -0.898997   \n",
              "1  0.054702   0.500937  11.257287 -5.796532  0.581473 -0.285336  0.780839   \n",
              "2  1.398337 -12.372193   5.852801 -8.212138 -4.382645 -2.375373 -5.097301   \n",
              "3  1.398337 -12.372193   5.852801 -8.212138 -4.382645 -2.375373 -5.097301   \n",
              "4  1.720981  -8.522770   7.893877 -8.895610 -5.348538 -1.063221 -4.115649   \n",
              "\n",
              "     mfcc20  \n",
              "0 -2.506209  \n",
              "1  0.298647  \n",
              "2 -0.492338  \n",
              "3 -0.492338  \n",
              "4 -1.000136  \n",
              "\n",
              "[5 rows x 40 columns]"
            ]
          },
          "metadata": {
            "tags": []
          },
          "execution_count": 85
        }
      ]
    },
    {
      "cell_type": "code",
      "metadata": {
        "id": "k0TAYeLu8IzC",
        "outputId": "2b40a784-e51e-47ed-c5b5-115162dde807"
      },
      "source": [
        "Googledataset.describe()"
      ],
      "execution_count": null,
      "outputs": [
        {
          "output_type": "execute_result",
          "data": {
            "text/html": [
              "<div>\n",
              "<style scoped>\n",
              "    .dataframe tbody tr th:only-of-type {\n",
              "        vertical-align: middle;\n",
              "    }\n",
              "\n",
              "    .dataframe tbody tr th {\n",
              "        vertical-align: top;\n",
              "    }\n",
              "\n",
              "    .dataframe thead th {\n",
              "        text-align: right;\n",
              "    }\n",
              "</style>\n",
              "<table border=\"1\" class=\"dataframe\">\n",
              "  <thead>\n",
              "    <tr style=\"text-align: right;\">\n",
              "      <th></th>\n",
              "      <th>confidence</th>\n",
              "      <th>S in transcripted text</th>\n",
              "      <th>S in Real text</th>\n",
              "      <th>vowels in transcripted text</th>\n",
              "      <th>vowels in Real text</th>\n",
              "      <th>consones in transcripted text</th>\n",
              "      <th>consones in Real text</th>\n",
              "      <th>consones correctly transcripted</th>\n",
              "      <th>S correctly transcripted percentage</th>\n",
              "      <th>vowels correctly transcripted percentage</th>\n",
              "      <th>...</th>\n",
              "      <th>mfcc11</th>\n",
              "      <th>mfcc12</th>\n",
              "      <th>mfcc13</th>\n",
              "      <th>mfcc14</th>\n",
              "      <th>mfcc15</th>\n",
              "      <th>mfcc16</th>\n",
              "      <th>mfcc17</th>\n",
              "      <th>mfcc18</th>\n",
              "      <th>mfcc19</th>\n",
              "      <th>mfcc20</th>\n",
              "    </tr>\n",
              "  </thead>\n",
              "  <tbody>\n",
              "    <tr>\n",
              "      <th>count</th>\n",
              "      <td>274.000000</td>\n",
              "      <td>274.000000</td>\n",
              "      <td>274.0</td>\n",
              "      <td>274.000000</td>\n",
              "      <td>274.0</td>\n",
              "      <td>274.000000</td>\n",
              "      <td>274.0</td>\n",
              "      <td>274.000000</td>\n",
              "      <td>274.000000</td>\n",
              "      <td>274.000000</td>\n",
              "      <td>...</td>\n",
              "      <td>273.000000</td>\n",
              "      <td>273.000000</td>\n",
              "      <td>273.000000</td>\n",
              "      <td>273.000000</td>\n",
              "      <td>273.000000</td>\n",
              "      <td>273.000000</td>\n",
              "      <td>273.000000</td>\n",
              "      <td>273.000000</td>\n",
              "      <td>273.000000</td>\n",
              "      <td>273.000000</td>\n",
              "    </tr>\n",
              "    <tr>\n",
              "      <th>mean</th>\n",
              "      <td>0.861963</td>\n",
              "      <td>6.645985</td>\n",
              "      <td>12.0</td>\n",
              "      <td>58.996350</td>\n",
              "      <td>114.0</td>\n",
              "      <td>126.010949</td>\n",
              "      <td>245.0</td>\n",
              "      <td>51.433040</td>\n",
              "      <td>55.383212</td>\n",
              "      <td>51.751185</td>\n",
              "      <td>...</td>\n",
              "      <td>-0.828550</td>\n",
              "      <td>-4.268426</td>\n",
              "      <td>3.414158</td>\n",
              "      <td>-6.651972</td>\n",
              "      <td>5.386856</td>\n",
              "      <td>-5.214169</td>\n",
              "      <td>0.287253</td>\n",
              "      <td>-0.618186</td>\n",
              "      <td>-0.353016</td>\n",
              "      <td>-0.048761</td>\n",
              "    </tr>\n",
              "    <tr>\n",
              "      <th>std</th>\n",
              "      <td>0.119261</td>\n",
              "      <td>4.747338</td>\n",
              "      <td>0.0</td>\n",
              "      <td>40.613293</td>\n",
              "      <td>0.0</td>\n",
              "      <td>87.277314</td>\n",
              "      <td>0.0</td>\n",
              "      <td>35.623393</td>\n",
              "      <td>39.561150</td>\n",
              "      <td>35.625695</td>\n",
              "      <td>...</td>\n",
              "      <td>4.782821</td>\n",
              "      <td>3.850427</td>\n",
              "      <td>4.139070</td>\n",
              "      <td>4.284900</td>\n",
              "      <td>4.286188</td>\n",
              "      <td>4.166661</td>\n",
              "      <td>4.556964</td>\n",
              "      <td>3.133650</td>\n",
              "      <td>3.247882</td>\n",
              "      <td>4.492471</td>\n",
              "    </tr>\n",
              "    <tr>\n",
              "      <th>min</th>\n",
              "      <td>0.228894</td>\n",
              "      <td>0.000000</td>\n",
              "      <td>12.0</td>\n",
              "      <td>0.000000</td>\n",
              "      <td>114.0</td>\n",
              "      <td>4.000000</td>\n",
              "      <td>245.0</td>\n",
              "      <td>1.632653</td>\n",
              "      <td>0.000000</td>\n",
              "      <td>0.000000</td>\n",
              "      <td>...</td>\n",
              "      <td>-12.254006</td>\n",
              "      <td>-16.497470</td>\n",
              "      <td>-8.957103</td>\n",
              "      <td>-19.569922</td>\n",
              "      <td>-8.136802</td>\n",
              "      <td>-15.930112</td>\n",
              "      <td>-8.220355</td>\n",
              "      <td>-9.083312</td>\n",
              "      <td>-8.265202</td>\n",
              "      <td>-7.773803</td>\n",
              "    </tr>\n",
              "    <tr>\n",
              "      <th>25%</th>\n",
              "      <td>0.852480</td>\n",
              "      <td>2.000000</td>\n",
              "      <td>12.0</td>\n",
              "      <td>18.000000</td>\n",
              "      <td>114.0</td>\n",
              "      <td>35.500000</td>\n",
              "      <td>245.0</td>\n",
              "      <td>14.489796</td>\n",
              "      <td>16.666667</td>\n",
              "      <td>15.789474</td>\n",
              "      <td>...</td>\n",
              "      <td>-4.115704</td>\n",
              "      <td>-6.781964</td>\n",
              "      <td>1.093388</td>\n",
              "      <td>-9.537857</td>\n",
              "      <td>2.014357</td>\n",
              "      <td>-8.179685</td>\n",
              "      <td>-2.997143</td>\n",
              "      <td>-2.380601</td>\n",
              "      <td>-2.309813</td>\n",
              "      <td>-2.741411</td>\n",
              "    </tr>\n",
              "    <tr>\n",
              "      <th>50%</th>\n",
              "      <td>0.907768</td>\n",
              "      <td>6.000000</td>\n",
              "      <td>12.0</td>\n",
              "      <td>60.500000</td>\n",
              "      <td>114.0</td>\n",
              "      <td>132.500000</td>\n",
              "      <td>245.0</td>\n",
              "      <td>54.081633</td>\n",
              "      <td>50.000000</td>\n",
              "      <td>53.070175</td>\n",
              "      <td>...</td>\n",
              "      <td>-1.449760</td>\n",
              "      <td>-4.527451</td>\n",
              "      <td>3.283921</td>\n",
              "      <td>-7.138074</td>\n",
              "      <td>5.040222</td>\n",
              "      <td>-4.634343</td>\n",
              "      <td>-0.154728</td>\n",
              "      <td>-1.063221</td>\n",
              "      <td>-0.535864</td>\n",
              "      <td>-1.000136</td>\n",
              "    </tr>\n",
              "    <tr>\n",
              "      <th>75%</th>\n",
              "      <td>0.925350</td>\n",
              "      <td>11.000000</td>\n",
              "      <td>12.0</td>\n",
              "      <td>101.750000</td>\n",
              "      <td>114.0</td>\n",
              "      <td>217.000000</td>\n",
              "      <td>245.0</td>\n",
              "      <td>88.571429</td>\n",
              "      <td>91.666667</td>\n",
              "      <td>89.254386</td>\n",
              "      <td>...</td>\n",
              "      <td>2.470798</td>\n",
              "      <td>-1.511848</td>\n",
              "      <td>6.644120</td>\n",
              "      <td>-3.593731</td>\n",
              "      <td>8.133277</td>\n",
              "      <td>-2.616337</td>\n",
              "      <td>3.112602</td>\n",
              "      <td>1.639826</td>\n",
              "      <td>1.506622</td>\n",
              "      <td>1.871774</td>\n",
              "    </tr>\n",
              "    <tr>\n",
              "      <th>max</th>\n",
              "      <td>0.956250</td>\n",
              "      <td>15.000000</td>\n",
              "      <td>12.0</td>\n",
              "      <td>110.000000</td>\n",
              "      <td>114.0</td>\n",
              "      <td>232.000000</td>\n",
              "      <td>245.0</td>\n",
              "      <td>94.693878</td>\n",
              "      <td>125.000000</td>\n",
              "      <td>96.491228</td>\n",
              "      <td>...</td>\n",
              "      <td>16.751359</td>\n",
              "      <td>5.589539</td>\n",
              "      <td>13.932120</td>\n",
              "      <td>4.115695</td>\n",
              "      <td>16.214827</td>\n",
              "      <td>6.295963</td>\n",
              "      <td>15.506280</td>\n",
              "      <td>8.002700</td>\n",
              "      <td>8.398640</td>\n",
              "      <td>16.074244</td>\n",
              "    </tr>\n",
              "  </tbody>\n",
              "</table>\n",
              "<p>8 rows × 40 columns</p>\n",
              "</div>"
            ],
            "text/plain": [
              "       confidence  S in transcripted text  S in Real text  \\\n",
              "count  274.000000              274.000000           274.0   \n",
              "mean     0.861963                6.645985            12.0   \n",
              "std      0.119261                4.747338             0.0   \n",
              "min      0.228894                0.000000            12.0   \n",
              "25%      0.852480                2.000000            12.0   \n",
              "50%      0.907768                6.000000            12.0   \n",
              "75%      0.925350               11.000000            12.0   \n",
              "max      0.956250               15.000000            12.0   \n",
              "\n",
              "       vowels in transcripted text  vowels in Real text  \\\n",
              "count                   274.000000                274.0   \n",
              "mean                     58.996350                114.0   \n",
              "std                      40.613293                  0.0   \n",
              "min                       0.000000                114.0   \n",
              "25%                      18.000000                114.0   \n",
              "50%                      60.500000                114.0   \n",
              "75%                     101.750000                114.0   \n",
              "max                     110.000000                114.0   \n",
              "\n",
              "       consones in transcripted text  consones in Real text  \\\n",
              "count                     274.000000                  274.0   \n",
              "mean                      126.010949                  245.0   \n",
              "std                        87.277314                    0.0   \n",
              "min                         4.000000                  245.0   \n",
              "25%                        35.500000                  245.0   \n",
              "50%                       132.500000                  245.0   \n",
              "75%                       217.000000                  245.0   \n",
              "max                       232.000000                  245.0   \n",
              "\n",
              "       consones correctly transcripted  S correctly transcripted percentage  \\\n",
              "count                       274.000000                           274.000000   \n",
              "mean                         51.433040                            55.383212   \n",
              "std                          35.623393                            39.561150   \n",
              "min                           1.632653                             0.000000   \n",
              "25%                          14.489796                            16.666667   \n",
              "50%                          54.081633                            50.000000   \n",
              "75%                          88.571429                            91.666667   \n",
              "max                          94.693878                           125.000000   \n",
              "\n",
              "       vowels correctly transcripted percentage  ...      mfcc11      mfcc12  \\\n",
              "count                                274.000000  ...  273.000000  273.000000   \n",
              "mean                                  51.751185  ...   -0.828550   -4.268426   \n",
              "std                                   35.625695  ...    4.782821    3.850427   \n",
              "min                                    0.000000  ...  -12.254006  -16.497470   \n",
              "25%                                   15.789474  ...   -4.115704   -6.781964   \n",
              "50%                                   53.070175  ...   -1.449760   -4.527451   \n",
              "75%                                   89.254386  ...    2.470798   -1.511848   \n",
              "max                                   96.491228  ...   16.751359    5.589539   \n",
              "\n",
              "           mfcc13      mfcc14      mfcc15      mfcc16      mfcc17      mfcc18  \\\n",
              "count  273.000000  273.000000  273.000000  273.000000  273.000000  273.000000   \n",
              "mean     3.414158   -6.651972    5.386856   -5.214169    0.287253   -0.618186   \n",
              "std      4.139070    4.284900    4.286188    4.166661    4.556964    3.133650   \n",
              "min     -8.957103  -19.569922   -8.136802  -15.930112   -8.220355   -9.083312   \n",
              "25%      1.093388   -9.537857    2.014357   -8.179685   -2.997143   -2.380601   \n",
              "50%      3.283921   -7.138074    5.040222   -4.634343   -0.154728   -1.063221   \n",
              "75%      6.644120   -3.593731    8.133277   -2.616337    3.112602    1.639826   \n",
              "max     13.932120    4.115695   16.214827    6.295963   15.506280    8.002700   \n",
              "\n",
              "           mfcc19      mfcc20  \n",
              "count  273.000000  273.000000  \n",
              "mean    -0.353016   -0.048761  \n",
              "std      3.247882    4.492471  \n",
              "min     -8.265202   -7.773803  \n",
              "25%     -2.309813   -2.741411  \n",
              "50%     -0.535864   -1.000136  \n",
              "75%      1.506622    1.871774  \n",
              "max      8.398640   16.074244  \n",
              "\n",
              "[8 rows x 40 columns]"
            ]
          },
          "metadata": {
            "tags": []
          },
          "execution_count": 29
        }
      ]
    },
    {
      "cell_type": "code",
      "metadata": {
        "id": "YVYWqGot8IzE",
        "outputId": "0ce4f251-c370-4af2-c099-a8ffd4511520"
      },
      "source": [
        "Googledataset[['Correct_int', 'pathology']].groupby(['pathology'], as_index=False).mean().sort_values(by='pathology', ascending=False)"
      ],
      "execution_count": null,
      "outputs": [
        {
          "output_type": "execute_result",
          "data": {
            "text/html": [
              "<div>\n",
              "<style scoped>\n",
              "    .dataframe tbody tr th:only-of-type {\n",
              "        vertical-align: middle;\n",
              "    }\n",
              "\n",
              "    .dataframe tbody tr th {\n",
              "        vertical-align: top;\n",
              "    }\n",
              "\n",
              "    .dataframe thead th {\n",
              "        text-align: right;\n",
              "    }\n",
              "</style>\n",
              "<table border=\"1\" class=\"dataframe\">\n",
              "  <thead>\n",
              "    <tr style=\"text-align: right;\">\n",
              "      <th></th>\n",
              "      <th>pathology</th>\n",
              "      <th>Correct_int</th>\n",
              "    </tr>\n",
              "  </thead>\n",
              "  <tbody>\n",
              "    <tr>\n",
              "      <th>5</th>\n",
              "      <td>5.0</td>\n",
              "      <td>0.600000</td>\n",
              "    </tr>\n",
              "    <tr>\n",
              "      <th>4</th>\n",
              "      <td>4.0</td>\n",
              "      <td>0.407407</td>\n",
              "    </tr>\n",
              "    <tr>\n",
              "      <th>3</th>\n",
              "      <td>3.0</td>\n",
              "      <td>0.531915</td>\n",
              "    </tr>\n",
              "    <tr>\n",
              "      <th>2</th>\n",
              "      <td>2.0</td>\n",
              "      <td>1.000000</td>\n",
              "    </tr>\n",
              "    <tr>\n",
              "      <th>1</th>\n",
              "      <td>1.0</td>\n",
              "      <td>0.534653</td>\n",
              "    </tr>\n",
              "    <tr>\n",
              "      <th>0</th>\n",
              "      <td>0.0</td>\n",
              "      <td>0.920455</td>\n",
              "    </tr>\n",
              "  </tbody>\n",
              "</table>\n",
              "</div>"
            ],
            "text/plain": [
              "   pathology  Correct_int\n",
              "5        5.0     0.600000\n",
              "4        4.0     0.407407\n",
              "3        3.0     0.531915\n",
              "2        2.0     1.000000\n",
              "1        1.0     0.534653\n",
              "0        0.0     0.920455"
            ]
          },
          "metadata": {
            "tags": []
          },
          "execution_count": 30
        }
      ]
    },
    {
      "cell_type": "code",
      "metadata": {
        "id": "iFX489nl8IzF",
        "outputId": "e38e2768-def0-4c73-85b8-e9412173f3c1"
      },
      "source": [
        "Googledataset[['S correctly transcripted percentage', 'pathology']].groupby(['pathology'], as_index=False).mean().sort_values(by='pathology', ascending=False)"
      ],
      "execution_count": null,
      "outputs": [
        {
          "output_type": "execute_result",
          "data": {
            "text/html": [
              "<div>\n",
              "<style scoped>\n",
              "    .dataframe tbody tr th:only-of-type {\n",
              "        vertical-align: middle;\n",
              "    }\n",
              "\n",
              "    .dataframe tbody tr th {\n",
              "        vertical-align: top;\n",
              "    }\n",
              "\n",
              "    .dataframe thead th {\n",
              "        text-align: right;\n",
              "    }\n",
              "</style>\n",
              "<table border=\"1\" class=\"dataframe\">\n",
              "  <thead>\n",
              "    <tr style=\"text-align: right;\">\n",
              "      <th></th>\n",
              "      <th>pathology</th>\n",
              "      <th>S correctly transcripted percentage</th>\n",
              "    </tr>\n",
              "  </thead>\n",
              "  <tbody>\n",
              "    <tr>\n",
              "      <th>5</th>\n",
              "      <td>5.0</td>\n",
              "      <td>33.333333</td>\n",
              "    </tr>\n",
              "    <tr>\n",
              "      <th>4</th>\n",
              "      <td>4.0</td>\n",
              "      <td>20.679012</td>\n",
              "    </tr>\n",
              "    <tr>\n",
              "      <th>3</th>\n",
              "      <td>3.0</td>\n",
              "      <td>34.219858</td>\n",
              "    </tr>\n",
              "    <tr>\n",
              "      <th>2</th>\n",
              "      <td>2.0</td>\n",
              "      <td>91.666667</td>\n",
              "    </tr>\n",
              "    <tr>\n",
              "      <th>1</th>\n",
              "      <td>1.0</td>\n",
              "      <td>45.957096</td>\n",
              "    </tr>\n",
              "    <tr>\n",
              "      <th>0</th>\n",
              "      <td>0.0</td>\n",
              "      <td>90.246212</td>\n",
              "    </tr>\n",
              "  </tbody>\n",
              "</table>\n",
              "</div>"
            ],
            "text/plain": [
              "   pathology  S correctly transcripted percentage\n",
              "5        5.0                            33.333333\n",
              "4        4.0                            20.679012\n",
              "3        3.0                            34.219858\n",
              "2        2.0                            91.666667\n",
              "1        1.0                            45.957096\n",
              "0        0.0                            90.246212"
            ]
          },
          "metadata": {
            "tags": []
          },
          "execution_count": 31
        }
      ]
    },
    {
      "cell_type": "code",
      "metadata": {
        "id": "DOdiRrxz8IzF",
        "outputId": "0bd80401-019b-4173-9b84-4554bee38ed7"
      },
      "source": [
        "Googledataset[['vowels correctly transcripted percentage', 'pathology']].groupby(['pathology'], as_index=False).mean().sort_values(by='pathology', ascending=False)"
      ],
      "execution_count": null,
      "outputs": [
        {
          "output_type": "execute_result",
          "data": {
            "text/html": [
              "<div>\n",
              "<style scoped>\n",
              "    .dataframe tbody tr th:only-of-type {\n",
              "        vertical-align: middle;\n",
              "    }\n",
              "\n",
              "    .dataframe tbody tr th {\n",
              "        vertical-align: top;\n",
              "    }\n",
              "\n",
              "    .dataframe thead th {\n",
              "        text-align: right;\n",
              "    }\n",
              "</style>\n",
              "<table border=\"1\" class=\"dataframe\">\n",
              "  <thead>\n",
              "    <tr style=\"text-align: right;\">\n",
              "      <th></th>\n",
              "      <th>pathology</th>\n",
              "      <th>vowels correctly transcripted percentage</th>\n",
              "    </tr>\n",
              "  </thead>\n",
              "  <tbody>\n",
              "    <tr>\n",
              "      <th>5</th>\n",
              "      <td>5.0</td>\n",
              "      <td>31.754386</td>\n",
              "    </tr>\n",
              "    <tr>\n",
              "      <th>4</th>\n",
              "      <td>4.0</td>\n",
              "      <td>20.857700</td>\n",
              "    </tr>\n",
              "    <tr>\n",
              "      <th>3</th>\n",
              "      <td>3.0</td>\n",
              "      <td>37.066069</td>\n",
              "    </tr>\n",
              "    <tr>\n",
              "      <th>2</th>\n",
              "      <td>2.0</td>\n",
              "      <td>86.842105</td>\n",
              "    </tr>\n",
              "    <tr>\n",
              "      <th>1</th>\n",
              "      <td>1.0</td>\n",
              "      <td>40.576689</td>\n",
              "    </tr>\n",
              "    <tr>\n",
              "      <th>0</th>\n",
              "      <td>0.0</td>\n",
              "      <td>83.771930</td>\n",
              "    </tr>\n",
              "  </tbody>\n",
              "</table>\n",
              "</div>"
            ],
            "text/plain": [
              "   pathology  vowels correctly transcripted percentage\n",
              "5        5.0                                 31.754386\n",
              "4        4.0                                 20.857700\n",
              "3        3.0                                 37.066069\n",
              "2        2.0                                 86.842105\n",
              "1        1.0                                 40.576689\n",
              "0        0.0                                 83.771930"
            ]
          },
          "metadata": {
            "tags": []
          },
          "execution_count": 32
        }
      ]
    },
    {
      "cell_type": "code",
      "metadata": {
        "id": "fUvQjgCs8IzG",
        "outputId": "df10db37-3485-4cb0-90a9-b411403ffc62"
      },
      "source": [
        "Googledataset[['consones correctly transcripted', 'pathology']].groupby(['pathology'], as_index=False).mean().sort_values(by='pathology', ascending=False)"
      ],
      "execution_count": null,
      "outputs": [
        {
          "output_type": "execute_result",
          "data": {
            "text/html": [
              "<div>\n",
              "<style scoped>\n",
              "    .dataframe tbody tr th:only-of-type {\n",
              "        vertical-align: middle;\n",
              "    }\n",
              "\n",
              "    .dataframe tbody tr th {\n",
              "        vertical-align: top;\n",
              "    }\n",
              "\n",
              "    .dataframe thead th {\n",
              "        text-align: right;\n",
              "    }\n",
              "</style>\n",
              "<table border=\"1\" class=\"dataframe\">\n",
              "  <thead>\n",
              "    <tr style=\"text-align: right;\">\n",
              "      <th></th>\n",
              "      <th>pathology</th>\n",
              "      <th>consones correctly transcripted</th>\n",
              "    </tr>\n",
              "  </thead>\n",
              "  <tbody>\n",
              "    <tr>\n",
              "      <th>5</th>\n",
              "      <td>5.0</td>\n",
              "      <td>30.734694</td>\n",
              "    </tr>\n",
              "    <tr>\n",
              "      <th>4</th>\n",
              "      <td>4.0</td>\n",
              "      <td>20.498866</td>\n",
              "    </tr>\n",
              "    <tr>\n",
              "      <th>3</th>\n",
              "      <td>3.0</td>\n",
              "      <td>36.639166</td>\n",
              "    </tr>\n",
              "    <tr>\n",
              "      <th>2</th>\n",
              "      <td>2.0</td>\n",
              "      <td>88.163265</td>\n",
              "    </tr>\n",
              "    <tr>\n",
              "      <th>1</th>\n",
              "      <td>1.0</td>\n",
              "      <td>40.387957</td>\n",
              "    </tr>\n",
              "    <tr>\n",
              "      <th>0</th>\n",
              "      <td>0.0</td>\n",
              "      <td>83.436920</td>\n",
              "    </tr>\n",
              "  </tbody>\n",
              "</table>\n",
              "</div>"
            ],
            "text/plain": [
              "   pathology  consones correctly transcripted\n",
              "5        5.0                        30.734694\n",
              "4        4.0                        20.498866\n",
              "3        3.0                        36.639166\n",
              "2        2.0                        88.163265\n",
              "1        1.0                        40.387957\n",
              "0        0.0                        83.436920"
            ]
          },
          "metadata": {
            "tags": []
          },
          "execution_count": 33
        }
      ]
    },
    {
      "cell_type": "code",
      "metadata": {
        "id": "4cQf9HNe8IzH",
        "outputId": "5148c0c1-675d-4b9e-91ee-20882932e677"
      },
      "source": [
        "grid = sns.FacetGrid(Googledataset, col='pathology', row='Correct_int', size=2.2, aspect=1.6)\n",
        "grid.map(plt.hist, 'consones correctly transcripted', alpha=.5, bins=20)\n",
        "grid.add_legend();"
      ],
      "execution_count": null,
      "outputs": [
        {
          "output_type": "display_data",
          "data": {
            "image/png": "[encoded data removed]",
            "text/plain": [
              "<Figure size 1528.64x316.8 with 12 Axes>"
            ]
          },
          "metadata": {
            "tags": [],
            "needs_background": "light"
          }
        }
      ]
    },
    {
      "cell_type": "code",
      "metadata": {
        "id": "kVglXaiy8IzH",
        "outputId": "ef3e560c-8791-4c36-96ac-0d29fa2e3569"
      },
      "source": [
        "grid = sns.FacetGrid(Googledataset, col='pathology', row='Correct_int', size=2.2, aspect=1.6)\n",
        "grid.map(plt.hist, 'vowels correctly transcripted percentage', alpha=.5, bins=20)\n",
        "grid.add_legend();"
      ],
      "execution_count": null,
      "outputs": [
        {
          "output_type": "display_data",
          "data": {
            "image/png": "[encoded data removed]",
            "text/plain": [
              "<Figure size 1528.64x316.8 with 12 Axes>"
            ]
          },
          "metadata": {
            "tags": [],
            "needs_background": "light"
          }
        }
      ]
    },
    {
      "cell_type": "code",
      "metadata": {
        "id": "pmjj8ymA8IzI",
        "outputId": "8b72766d-ceba-4320-816b-d9e56f839139"
      },
      "source": [
        "g = sns.FacetGrid(Googledataset, col='pathology')\n",
        "g.map(plt.hist, 'vowels correctly transcripted percentage', bins=15)"
      ],
      "execution_count": null,
      "outputs": [
        {
          "output_type": "execute_result",
          "data": {
            "text/plain": [
              "<seaborn.axisgrid.FacetGrid at 0x196c532ac70>"
            ]
          },
          "metadata": {
            "tags": []
          },
          "execution_count": 36
        },
        {
          "output_type": "display_data",
          "data": {
            "image/png": "[encoded data removed]",
            "text/plain": [
              "<Figure size 1296x216 with 6 Axes>"
            ]
          },
          "metadata": {
            "tags": [],
            "needs_background": "light"
          }
        }
      ]
    },
    {
      "cell_type": "code",
      "metadata": {
        "id": "_uvAvTH38IzJ",
        "outputId": "ac092784-ce59-4613-dfbb-c22fbcc7c4b5"
      },
      "source": [
        "g = sns.FacetGrid(Googledataset, col='pathology')\n",
        "g.map(plt.hist, 'consones correctly transcripted', bins=15)"
      ],
      "execution_count": null,
      "outputs": [
        {
          "output_type": "execute_result",
          "data": {
            "text/plain": [
              "<seaborn.axisgrid.FacetGrid at 0x196c530d610>"
            ]
          },
          "metadata": {
            "tags": []
          },
          "execution_count": 37
        },
        {
          "output_type": "display_data",
          "data": {
            "image/png": "[encoded data removed]",
            "text/plain": [
              "<Figure size 1296x216 with 6 Axes>"
            ]
          },
          "metadata": {
            "tags": [],
            "needs_background": "light"
          }
        }
      ]
    },
    {
      "cell_type": "code",
      "metadata": {
        "id": "5MtLB4pi8IzJ",
        "outputId": "784fd159-a20a-4b51-d377-3d7de7b1e3b2"
      },
      "source": [
        "g = sns.FacetGrid(Googledataset, col='pathology')\n",
        "g.map(plt.hist, 'S correctly transcripted percentage', bins=10)"
      ],
      "execution_count": null,
      "outputs": [
        {
          "output_type": "execute_result",
          "data": {
            "text/plain": [
              "<seaborn.axisgrid.FacetGrid at 0x196c5d4a3d0>"
            ]
          },
          "metadata": {
            "tags": []
          },
          "execution_count": 38
        },
        {
          "output_type": "display_data",
          "data": {
            "image/png": "[encoded data removed]",
            "text/plain": [
              "<Figure size 1296x216 with 6 Axes>"
            ]
          },
          "metadata": {
            "tags": [],
            "needs_background": "light"
          }
        }
      ]
    },
    {
      "cell_type": "code",
      "metadata": {
        "id": "dMDrYYua8IzJ",
        "outputId": "13bcdd70-66c5-4ae7-f6f2-13784e3d5e2a"
      },
      "source": [
        "g = sns.FacetGrid(Googledataset, col='pathology')\n",
        "g.map(plt.hist, 'confidence', bins=5)"
      ],
      "execution_count": null,
      "outputs": [
        {
          "output_type": "execute_result",
          "data": {
            "text/plain": [
              "<seaborn.axisgrid.FacetGrid at 0x196c68cd190>"
            ]
          },
          "metadata": {
            "tags": []
          },
          "execution_count": 39
        },
        {
          "output_type": "display_data",
          "data": {
            "image/png": "[encoded data removed]",
            "text/plain": [
              "<Figure size 1296x216 with 6 Axes>"
            ]
          },
          "metadata": {
            "tags": [],
            "needs_background": "light"
          }
        }
      ]
    },
    {
      "cell_type": "code",
      "metadata": {
        "id": "AYtBCMs58IzK",
        "outputId": "a3dcc46e-ae7f-464a-8b28-65867c51ff90"
      },
      "source": [
        "g = sns.FacetGrid(Googledataset, col='pathology')\n",
        "g.map(plt.hist, 'Correct_int', bins=3)"
      ],
      "execution_count": null,
      "outputs": [
        {
          "output_type": "execute_result",
          "data": {
            "text/plain": [
              "<seaborn.axisgrid.FacetGrid at 0x196c6cde730>"
            ]
          },
          "metadata": {
            "tags": []
          },
          "execution_count": 40
        },
        {
          "output_type": "display_data",
          "data": {
            "image/png": "[encoded data removed]",
            "text/plain": [
              "<Figure size 1296x216 with 6 Axes>"
            ]
          },
          "metadata": {
            "tags": [],
            "needs_background": "light"
          }
        }
      ]
    },
    {
      "cell_type": "code",
      "metadata": {
        "id": "9jLVPjAS8IzK",
        "outputId": "15a2e575-c06b-419d-f08f-25b09bf8427e"
      },
      "source": [
        "grid = sns.FacetGrid(Googledataset, row='pathology', size=2.2, aspect=1.6)\n",
        "grid.map(sns.pointplot, 'Correct_int', 'confidence', 'Correct_int', palette='deep')\n",
        "grid.add_legend()"
      ],
      "execution_count": null,
      "outputs": [
        {
          "output_type": "execute_result",
          "data": {
            "text/plain": [
              "<seaborn.axisgrid.FacetGrid at 0x196c809fb80>"
            ]
          },
          "metadata": {
            "tags": []
          },
          "execution_count": 41
        },
        {
          "output_type": "display_data",
          "data": {
            "image/png": "[encoded data removed]",
            "text/plain": [
              "<Figure size 305.315x950.4 with 6 Axes>"
            ]
          },
          "metadata": {
            "tags": [],
            "needs_background": "light"
          }
        }
      ]
    },
    {
      "cell_type": "code",
      "metadata": {
        "id": "48XHrnZ88IzL"
      },
      "source": [
        "\n",
        "Y = Googledataset['pathology'].values\n",
        "Y = Y.astype(int)\n",
        "\n",
        "Y_2=Googledataset['pathology_detected'].values\n",
        "\n",
        "X = Googledataset.drop(['pathology'],axis=1)\n",
        "\n",
        "# Using Skicit-learn to split data into training and testing sets\n",
        "from sklearn.model_selection import train_test_split\n",
        "\n",
        "# Split the data into training and testing sets\n",
        "X_train, X_test, Y_train, Y_test = train_test_split(X, Y, test_size = 0.2, random_state = 20)\n",
        "\n",
        "X2_train, X2_test, Y2_train, Y2_test = train_test_split(X, Y_2, test_size = 0.3, random_state = 20)\n",
        "\n"
      ],
      "execution_count": null,
      "outputs": []
    },
    {
      "cell_type": "code",
      "metadata": {
        "id": "VZaPwala8IzL",
        "outputId": "60d6f53e-f84f-4d06-a8bc-b634aa1d86c8"
      },
      "source": [
        "from sklearn.ensemble import RandomForestClassifier\n",
        "model = RandomForestClassifier(n_estimators=30, random_state=15)\n",
        "model.fit(X_train,Y_train)\n"
      ],
      "execution_count": null,
      "outputs": [
        {
          "output_type": "execute_result",
          "data": {
            "text/plain": [
              "RandomForestClassifier(n_estimators=30, random_state=15)"
            ]
          },
          "metadata": {
            "tags": []
          },
          "execution_count": 99
        }
      ]
    },
    {
      "cell_type": "code",
      "metadata": {
        "id": "35hb7ta48IzM",
        "outputId": "44f9e57d-b7b3-4e2d-cb51-a83763991148"
      },
      "source": [
        "prediction_test = model.predict(X_test)\n",
        "print(prediction_test)"
      ],
      "execution_count": null,
      "outputs": [
        {
          "output_type": "stream",
          "text": [
            "[0 5 1 0 4 4 0 1 0 0 0 0 1 3 0 0 0 1 4 1 1 3 4 1 1 3 0 4 1 0 3 1 1 0 1 0 1\n",
            " 1 1 0 1 1 0 4 0 1 1 0 0 4 0 1 0 0 0]\n"
          ],
          "name": "stdout"
        }
      ]
    },
    {
      "cell_type": "code",
      "metadata": {
        "id": "5hXHLGYy8IzP",
        "outputId": "94648db3-346b-43ba-8cca-c9b023f93882"
      },
      "source": [
        "from sklearn import metrics\n",
        "print(\"Accuracy = \",metrics.accuracy_score(prediction_test,Y_test))"
      ],
      "execution_count": null,
      "outputs": [
        {
          "output_type": "stream",
          "text": [
            "Accuracy =  0.9454545454545454\n"
          ],
          "name": "stdout"
        }
      ]
    },
    {
      "cell_type": "code",
      "metadata": {
        "id": "XNeSgk198IzP",
        "outputId": "9681ac83-34b9-425d-a72c-21c74626019f"
      },
      "source": [
        "from sklearn import svm\n",
        "classifier = svm.SVC(kernel='rbf',gamma='auto', C=5)\n",
        "classifier.fit(X_train,Y_train)\n",
        "Y_predict = classifier.predict(X_test)\n",
        "print(\"Accuracy = \",metrics.accuracy_score(Y_predict,Y_test))"
      ],
      "execution_count": null,
      "outputs": [
        {
          "output_type": "stream",
          "text": [
            "Accuracy =  0.9272727272727272\n"
          ],
          "name": "stdout"
        }
      ]
    },
    {
      "cell_type": "code",
      "metadata": {
        "id": "kAQmNhhc8IzQ"
      },
      "source": [
        "from sklearn.preprocessing import StandardScaler\n",
        "scaler = StandardScaler()\n",
        "scaler.fit(X_train)\n",
        "X_train=scaler.transform(X_train)\n",
        "X_test= scaler.transform(X_test)\n"
      ],
      "execution_count": null,
      "outputs": []
    },
    {
      "cell_type": "code",
      "metadata": {
        "id": "UhOp6SU38IzQ",
        "outputId": "421f72dc-e1f0-4a8a-ccba-15c8ca9baf47"
      },
      "source": [
        "from sklearn.neighbors import KNeighborsClassifier\n",
        "classifier = KNeighborsClassifier(n_neighbors=4)\n",
        "classifier.fit(X_train,Y_train)"
      ],
      "execution_count": null,
      "outputs": [
        {
          "output_type": "execute_result",
          "data": {
            "text/plain": [
              "KNeighborsClassifier(n_neighbors=4)"
            ]
          },
          "metadata": {
            "tags": []
          },
          "execution_count": 79
        }
      ]
    },
    {
      "cell_type": "code",
      "metadata": {
        "id": "ybei_PgY8IzQ",
        "outputId": "744b5c93-a6e2-4a85-b025-d06248f939c4"
      },
      "source": [
        "Y_pred= classifier.predict(X_test)\n",
        "print(\"Accuracy = \",metrics.accuracy_score(Y_pred,Y_test))"
      ],
      "execution_count": null,
      "outputs": [
        {
          "output_type": "stream",
          "text": [
            "Accuracy =  0.8\n"
          ],
          "name": "stdout"
        }
      ]
    },
    {
      "cell_type": "code",
      "metadata": {
        "id": "S678lN8Q8IzR",
        "outputId": "4d8a793d-ef17-4728-fa42-ca769f2064de"
      },
      "source": [
        "from sklearn import svm\n",
        "classif = svm.SVC()\n",
        "decision_function_shape='ovo'\n",
        "classif.fit(X_train,Y_train)\n",
        "predictions = classif.predict(X_test)\n",
        "print(\"Accuracy = \",metrics.accuracy_score(predictions,Y_test))\n",
        "\n"
      ],
      "execution_count": null,
      "outputs": [
        {
          "output_type": "stream",
          "text": [
            "Accuracy =  0.8727272727272727\n"
          ],
          "name": "stdout"
        }
      ]
    },
    {
      "cell_type": "code",
      "metadata": {
        "id": "mMIbb-2-8IzR",
        "outputId": "db16d083-f7bd-4187-c055-558e11f81dd2"
      },
      "source": [
        "from sklearn.naive_bayes import GaussianNB\n",
        "gnb = GaussianNB()\n",
        "y_pred = gnb.fit(X_train, Y_train).predict(X_test)\n",
        "print(\"Number of mislabeled points out of a total %d points : %d\"\n",
        "% (X_test.shape[0], (Y_test != y_pred).sum()))"
      ],
      "execution_count": null,
      "outputs": [
        {
          "output_type": "stream",
          "text": [
            "Number of mislabeled points out of a total 55 points : 11\n"
          ],
          "name": "stdout"
        }
      ]
    },
    {
      "cell_type": "code",
      "metadata": {
        "id": "XXzzpSEz8IzR"
      },
      "source": [
        "#for idx, input, prediction, label in zip(enumerate(X_test), X_test, y_pred, Y_test):\n",
        "#    if prediction != label:\n",
        "#        print(\"No.\", idx[0], 'input,',input, ', has been classified as', prediction, 'and should be', label) "
      ],
      "execution_count": null,
      "outputs": []
    },
    {
      "cell_type": "code",
      "metadata": {
        "id": "zK-HSpAG8IzR",
        "outputId": "c28d43df-96e2-4561-9c94-fc68bf4be1e5"
      },
      "source": [
        "# Wel of geen pathologie is wel 100% niet nodig is een beetje zever\n",
        "X = Googledataset.drop(['pathology_detected'],axis=1)\n",
        "from sklearn import svm\n",
        "classifier = svm.SVC(kernel='linear',gamma='scale',C=1)\n",
        "classifier.fit(X2_train,Y2_train)\n",
        "Y2_predict = classifier.predict(X2_test)\n",
        "print(\"Accuracy = \",metrics.accuracy_score(Y2_predict,Y2_test))"
      ],
      "execution_count": null,
      "outputs": [
        {
          "output_type": "stream",
          "text": [
            "Accuracy =  1.0\n"
          ],
          "name": "stdout"
        }
      ]
    },
    {
      "cell_type": "code",
      "metadata": {
        "id": "6DyZn6DR8IzS",
        "outputId": "dfdd1fc3-d303-4af8-86eb-3ed34b198617"
      },
      "source": [
        "#the best classifier in our case is the svm(rbf) and randomforest now we do it again but with cross validation\n",
        "from sklearn.model_selection import cross_val_score\n",
        "model = RandomForestClassifier(n_estimators=50, random_state=15)\n",
        "cross_val_score(model,X_train,Y_train,cv=10)\n"
      ],
      "execution_count": null,
      "outputs": [
        {
          "output_type": "execute_result",
          "data": {
            "text/plain": [
              "array([0.90909091, 0.95454545, 0.77272727, 0.95454545, 0.77272727,\n",
              "       0.81818182, 1.        , 0.86363636, 0.9047619 , 0.9047619 ])"
            ]
          },
          "metadata": {
            "tags": []
          },
          "execution_count": 143
        }
      ]
    },
    {
      "cell_type": "code",
      "metadata": {
        "id": "KzpQw3jS8IzS",
        "outputId": "49b5417f-5400-40f1-c524-9379c5f4724d"
      },
      "source": [
        "#average with cross validation\n",
        "cross_val_score(model,X_train,Y_train,cv=5).mean()"
      ],
      "execution_count": null,
      "outputs": [
        {
          "output_type": "execute_result",
          "data": {
            "text/plain": [
              "0.8947145877378435"
            ]
          },
          "metadata": {
            "tags": []
          },
          "execution_count": 144
        }
      ]
    },
    {
      "cell_type": "code",
      "metadata": {
        "id": "Y8jEUTIX8IzS",
        "outputId": "32531af6-f3bb-4588-ea50-e9e1c9dac24e"
      },
      "source": [
        "from sklearn import svm\n",
        "classifier = svm.SVC(kernel='rbf',gamma='auto', C=5)\n",
        "cross_val_score(classifier,X_train,Y_train,cv=10)"
      ],
      "execution_count": null,
      "outputs": [
        {
          "output_type": "execute_result",
          "data": {
            "text/plain": [
              "array([0.90909091, 0.86363636, 0.86363636, 0.95454545, 0.86363636,\n",
              "       0.81818182, 1.        , 0.81818182, 0.95238095, 0.85714286])"
            ]
          },
          "metadata": {
            "tags": []
          },
          "execution_count": 145
        }
      ]
    },
    {
      "cell_type": "code",
      "metadata": {
        "id": "_9aF1GwG8IzT",
        "outputId": "79cc27ac-029a-460e-a7e2-dbfb51452953"
      },
      "source": [
        "cross_val_score(classifier,X_train,Y_train,cv=10).mean()"
      ],
      "execution_count": null,
      "outputs": [
        {
          "output_type": "execute_result",
          "data": {
            "text/plain": [
              "0.89004329004329"
            ]
          },
          "metadata": {
            "tags": []
          },
          "execution_count": 146
        }
      ]
    },
    {
      "cell_type": "code",
      "metadata": {
        "id": "0hGkBVGX8IzT"
      },
      "source": [
        ""
      ],
      "execution_count": null,
      "outputs": []
    }
  ]
}