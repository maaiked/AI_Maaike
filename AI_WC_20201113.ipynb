{
  "nbformat": 4,
  "nbformat_minor": 0,
  "metadata": {
    "colab": {
      "name": "AI-WC_20201113.ipynb",
      "provenance": []
    },
    "kernelspec": {
      "name": "python3",
      "display_name": "Python 3"
    }
  },
  "cells": [
    {
      "cell_type": "code",
      "metadata": {
        "id": "eQIlmuYVwQyp"
      },
      "source": [
        "\n",
        "import matplotlib.pyplot as plt\n",
        "import numpy as np\n",
        "import random\n",
        "from sklearn import datasets, neighbors, metrics, tree\n",
        "\n",
        "def class_accs(predicted_labels, test_labels):\n",
        "    indices0 = []\n",
        "    indices1 = []\n",
        "    for i, label in enumerate(test_labels):\n",
        "        if label == 0:\n",
        "            indices0.append(i)\n",
        "        else:\n",
        "            indices1.append(i)\n",
        "    accuracy0 = metrics.accuracy_score([0] * len(indices0), predicted_labels[indices0])\n",
        "    accuracy1 = metrics.accuracy_score([1] * len(indices1), predicted_labels[indices1])\n",
        "    return accuracy0, accuracy1\n",
        "\n",
        "def print_metrics(predicted_labels, test_labels):\n",
        "    f1 = metrics.f1_score(test_labels, predicted_labels)\n",
        "    accuracy = metrics.accuracy_score(test_labels, predicted_labels)\n",
        "    \n",
        "    accuracy0, accuracy1 = class_accs(predicted_labels, test_labels)\n",
        "\n",
        "    print('\\tF1 = {}'.format(f1))\n",
        "    print('\\tAccuracy = {}'.format(accuracy))\n",
        "    print('\\t\\tclass 0: {}'.format(accuracy0))\n",
        "    print('\\t\\tclass 1: {}'.format(accuracy1))\n",
        "    print()\n"
      ],
      "execution_count": null,
      "outputs": []
    }
  ]
}